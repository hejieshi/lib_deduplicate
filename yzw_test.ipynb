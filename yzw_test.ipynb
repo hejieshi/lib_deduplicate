{
 "cells": [
  {
   "cell_type": "code",
   "execution_count": 1,
   "id": "c455027e",
   "metadata": {},
   "outputs": [
    {
     "name": "stdout",
     "output_type": "stream",
     "text": [
      "Hello, world\n"
     ]
    }
   ],
   "source": [
    "print(\"Hello, world\")"
   ]
  },
  {
   "cell_type": "code",
   "execution_count": 2,
   "id": "8895bccb",
   "metadata": {},
   "outputs": [],
   "source": [
    "import os\n",
    "import re\n",
    "import sys\n",
    "\n",
    "from tqdm import tqdm\n",
    "import numpy as np\n",
    "import pandas as pd\n",
    "import pymysql\n",
    "from sqlalchemy import create_engine\n",
    "import Levenshtein\n",
    "from fuzzywuzzy import fuzz\n",
    "\n",
    "# 中文标题的hashcode不能全置0，要改\n",
    "from tool import hashString,hashStringOdd,hashStringEven,hashString3\n",
    "from H5File import H5File"
   ]
  },
  {
   "cell_type": "code",
   "execution_count": 4,
   "id": "a8870cf0",
   "metadata": {
    "scrolled": true
   },
   "outputs": [
    {
     "name": "stdout",
     "output_type": "stream",
     "text": [
      "CPU times: user 3min 30s, sys: 17.7 s, total: 3min 48s\n",
      "Wall time: 3min 48s\n"
     ]
    }
   ],
   "source": [
    "%%time\n",
    "h5file = H5File(3, 2021)\n",
    "h5file.generate_DataFrame()\n",
    "# h5file.add_title_alter()\n",
    "h5file.add_id_mark()\n",
    "h5file.add_title_code()"
   ]
  },
  {
   "cell_type": "code",
   "execution_count": null,
   "id": "a3a1f4b4",
   "metadata": {},
   "outputs": [],
   "source": []
  }
 ],
 "metadata": {
  "kernelspec": {
   "display_name": "Python 3",
   "language": "python",
   "name": "python3"
  },
  "language_info": {
   "codemirror_mode": {
    "name": "ipython",
    "version": 3
   },
   "file_extension": ".py",
   "mimetype": "text/x-python",
   "name": "python",
   "nbconvert_exporter": "python",
   "pygments_lexer": "ipython3",
   "version": "3.6.5"
  }
 },
 "nbformat": 4,
 "nbformat_minor": 5
}
