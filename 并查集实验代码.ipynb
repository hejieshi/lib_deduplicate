{
 "cells": [
  {
   "cell_type": "code",
   "execution_count": null,
   "id": "67aeaf1c",
   "metadata": {},
   "outputs": [],
   "source": [
    "import json"
   ]
  },
  {
   "cell_type": "code",
   "execution_count": null,
   "id": "d15300e7",
   "metadata": {},
   "outputs": [],
   "source": [
    "import redis"
   ]
  },
  {
   "cell_type": "code",
   "execution_count": null,
   "id": "44b7bfe0",
   "metadata": {},
   "outputs": [],
   "source": [
    "pdata = h5file.pdata"
   ]
  },
  {
   "cell_type": "code",
   "execution_count": null,
   "id": "28e33e73",
   "metadata": {},
   "outputs": [],
   "source": [
    "r = redis.Redis(host='localhost', port=6379, decode_responses=True)"
   ]
  },
  {
   "cell_type": "code",
   "execution_count": null,
   "id": "3489cf2b",
   "metadata": {},
   "outputs": [],
   "source": []
  },
  {
   "cell_type": "code",
   "execution_count": null,
   "id": "7116ce30",
   "metadata": {},
   "outputs": [],
   "source": []
  },
  {
   "cell_type": "code",
   "execution_count": null,
   "id": "73b55761",
   "metadata": {},
   "outputs": [],
   "source": []
  },
  {
   "cell_type": "code",
   "execution_count": 46,
   "id": "633f87ea",
   "metadata": {},
   "outputs": [],
   "source": [
    "def find_pa(x:int):\n",
    "    #父节点为本身，直接返回。\n",
    "    if parent[x]==x:\n",
    "        return x\n",
    "    # 类似记忆化储存.\n",
    "    parent[x]=find_pa(parent[x])\n",
    "    return parent[x]\n",
    "\n",
    "\n",
    "def union_(x:int, y:int):\n",
    "    x_root=find_pa(x)\n",
    "    y_root=find_pa(y)\n",
    "    if x_root==y_root:\n",
    "        # 两节点父节点是同一个，即两节点在同一个集合中，无需合并\n",
    "        return\n",
    "    else:\n",
    "        # 合并操作，可让其中任意一个父节点的父节点为对方的父节点；\n",
    "        # parent[x_root]=y_root  \n",
    "        parent[y_root] = x_root\n",
    "        return\n",
    "\n",
    "parent = {}\n",
    "for i in range(1,10):\n",
    "    parent[i] = i\n",
    "    \n",
    "union_(8,9)\n",
    "union_(4,8)\n",
    "union_(5,6)\n",
    "union_(2,4)\n",
    "union_(1,3)\n",
    "union_(1,2)\n",
    "parent"
   ]
  },
  {
   "cell_type": "code",
   "execution_count": null,
   "id": "69370611",
   "metadata": {},
   "outputs": [],
   "source": [
    "parent = {}\n",
    "rank = {}\n",
    "for i in range(1,10):\n",
    "    parent[i] = i\n",
    "    rank[i] = 1\n",
    "\n",
    "merge(8,9)\n",
    "merge(4,8)\n",
    "merge(5,6)\n",
    "merge(2,4)\n",
    "merge(1,3)\n",
    "merge(1,2)\n",
    "\n",
    "parent"
   ]
  },
  {
   "cell_type": "code",
   "execution_count": 100,
   "id": "8d5cf6d9",
   "metadata": {},
   "outputs": [],
   "source": [
    "def find(x):\n",
    "    #父节点为本身，直接返回。\n",
    "    if parent[x]==x:\n",
    "        return x\n",
    "    # 类似记忆化储存.\n",
    "    parent[x]=find(parent[x])\n",
    "    return parent[x]\n",
    "\n",
    "\n",
    "def merge(i, j):\n",
    "    # 先找到两个根节点\n",
    "    x = find(i)\n",
    "    y = find(j) \n",
    "    if rank[x] <= rank[y]:\n",
    "        parent[x] = y\n",
    "    else:\n",
    "        parent[y] = x\n",
    "    if rank[x] == rank[y] and x != y:\n",
    "        # 如果深度相同且根节点不同，则新的根节点的深度+1\n",
    "        rank[y] += 1;                   \n",
    "\n",
    "        \n",
    "def mergeColumnAndTitle(id_set, column_dic, title_dic):\n",
    "    \"\"\"\n",
    "    路径优化版本的并查集，接收三个参数：\n",
    "    id_set:全部id的set，由pdata.id获得\n",
    "    （注：这里为了加速计算，直接接收id_set，实际应该检查以下id_set ?= column_dic.values+title_dic.values）\n",
    "    column_dic:全部有column的字典，结构为{'doi':[属于这个doi的所有id...]}\n",
    "    title_dic:全部没有column的字典，结构为{'未定':[title相似的所有id...]}\n",
    "    返回：{'new_id':[所有重复的id...]}\n",
    "    \"\"\"\n",
    "    # 初始化\n",
    "    parent = {}\n",
    "    rank = {}\n",
    "    for id_ in id_set:\n",
    "        parent[id_] = id_\n",
    "        rank[id_] = 1\n",
    "        \n",
    "    # 合并，（1，2，3）拆分为（1，2）（1，3）来合并\n",
    "    for key,value in column_dic.items():\n",
    "        if len(value) > 1:\n",
    "            for dup_id in value[1:]:\n",
    "                merge(value[0],dup_id)\n",
    "\n",
    "    for key,value in title_dic.items():\n",
    "        if len(value) > 1:\n",
    "            for dup_id in value[1:]:\n",
    "                merge(value[0],dup_id)\n",
    "            \n",
    "    # 找出重复项(按根节点分类)\n",
    "    dup_dic = {}\n",
    "    for id_ in id_set:\n",
    "        root_id = find(id_)\n",
    "        if root_id not in dup_dic:\n",
    "            dup_dic[root_id] = [id_]\n",
    "        else:\n",
    "            dup_dic[root_id].append(id_)\n",
    "    \n",
    "#     # 创建新id\n",
    "#     final_dup_dic = {}\n",
    "#     for dup_id_list in dup_dic.values():\n",
    "#         new_id = 产生新id的函数\n",
    "#         final_dup_dic[new_id] = dup_id_list\n",
    "#     return final_dup_dic\n",
    "    return dup_dic"
   ]
  },
  {
   "cell_type": "code",
   "execution_count": 101,
   "id": "6054ce2f",
   "metadata": {},
   "outputs": [],
   "source": [
    "#测试"
   ]
  },
  {
   "cell_type": "code",
   "execution_count": 11,
   "id": "150d2a29",
   "metadata": {},
   "outputs": [],
   "source": [
    "# 全部id，从pdata中获取\n",
    "id_set = set()\n",
    "for i in range(1,20):\n",
    "    id_set.add('id'+str(i))\n",
    "\n",
    "# 有doi的所有有column的字典\n",
    "column_dic = {'doi1':['id1','id2','id3','id4'],\\\n",
    "             'doi2':['id5'],\\\n",
    "             'doi3':['id6','id7'],\\\n",
    "             'doi4':['id8'],\\\n",
    "             'doi5':['id9']}"
   ]
  },
  {
   "cell_type": "code",
   "execution_count": 12,
   "id": "b07e2f79",
   "metadata": {},
   "outputs": [],
   "source": [
    "# 无doi的，只会和id1、5、6、8、9匹配\n",
    "\"\"\"\n",
    "出现18、8、9的情况是，id8和id9的doi不同（不重复）但他们标题相似，且都与id18相似\n",
    "这时无法判断（虽然后续可以再通过其他字段来判断，但是暂时不考虑）18到底是和8还是9重复，我们在这里取第一个8作为他的重复项\n",
    "所以在索引为len1～len2之间匹配（指计算fuzz距离）时，只要匹配到1个相似就应该停止匹配\n",
    "不仅可以加速而且可以避免出错（把8、9匹配成了重复，然而他们本身不重复）\n",
    "注：len1为doi为空 的哈希桶的长度，len2为去重后distinct 的哈希桶的长度\n",
    "\"\"\"\n",
    "title_dic = {'hash_code1_1':['id10','id11','id12','id1'],\\\n",
    "            'hash_code1_2':['id13'],\\\n",
    "            'hash_code2_1':['id14','id15','id16'],\\\n",
    "            'hash_code3_1':['id17'],\\\n",
    "            'hash_code4_1':['id18','id8','id9'],\\\n",
    "            'hash_code5_1':['id19','id5']}"
   ]
  },
  {
   "cell_type": "code",
   "execution_count": 13,
   "id": "baaa5c9f",
   "metadata": {},
   "outputs": [
    {
     "data": {
      "text/plain": [
       "{1442295841757995008: ['id13'],\n",
       " 1442295841757995009: ['id3', 'id2', 'id4', 'id10', 'id1', 'id11', 'id12'],\n",
       " 1442295841757995010: ['id17'],\n",
       " 1442295841757995011: ['id8', 'id18', 'id9'],\n",
       " 1442295841757995012: ['id15', 'id16', 'id14'],\n",
       " 1442295841757995013: ['id19', 'id5'],\n",
       " 1442295841757995014: ['id7', 'id6']}"
      ]
     },
     "execution_count": 13,
     "metadata": {},
     "output_type": "execute_result"
    }
   ],
   "source": [
    "from merge import mergeColumnAndTitle\n",
    "mergeColumnAndTitle(id_set, column_dic, title_dic)"
   ]
  },
  {
   "cell_type": "code",
   "execution_count": 105,
   "id": "77803353",
   "metadata": {},
   "outputs": [],
   "source": [
    "# 生成ID\n",
    "from generate_id import IdWorker\n",
    "worker = IdWorker(1,2)"
   ]
  },
  {
   "cell_type": "code",
   "execution_count": 111,
   "id": "6ffcb32c",
   "metadata": {},
   "outputs": [
    {
     "data": {
      "text/plain": [
       "1442052586789281792"
      ]
     },
     "execution_count": 111,
     "metadata": {},
     "output_type": "execute_result"
    }
   ],
   "source": [
    "worker.get_id()"
   ]
  },
  {
   "cell_type": "code",
   "execution_count": null,
   "id": "535fcb0c",
   "metadata": {},
   "outputs": [],
   "source": []
  },
  {
   "cell_type": "code",
   "execution_count": 24,
   "id": "ab9682b8",
   "metadata": {},
   "outputs": [
    {
     "data": {
      "text/html": [
       "<div>\n",
       "<style scoped>\n",
       "    .dataframe tbody tr th:only-of-type {\n",
       "        vertical-align: middle;\n",
       "    }\n",
       "\n",
       "    .dataframe tbody tr th {\n",
       "        vertical-align: top;\n",
       "    }\n",
       "\n",
       "    .dataframe thead th {\n",
       "        text-align: right;\n",
       "    }\n",
       "</style>\n",
       "<table border=\"1\" class=\"dataframe\">\n",
       "  <thead>\n",
       "    <tr style=\"text-align: right;\">\n",
       "      <th></th>\n",
       "      <th>id</th>\n",
       "      <th>title</th>\n",
       "      <th>language</th>\n",
       "      <th>identifier_doi</th>\n",
       "      <th>source_file</th>\n",
       "    </tr>\n",
       "  </thead>\n",
       "  <tbody>\n",
       "    <tr>\n",
       "      <th>0</th>\n",
       "      <td>21134952343</td>\n",
       "      <td>积极发挥优势 增强发展后劲</td>\n",
       "      <td></td>\n",
       "      <td></td>\n",
       "      <td>111</td>\n",
       "    </tr>\n",
       "    <tr>\n",
       "      <th>1</th>\n",
       "      <td>21134961091</td>\n",
       "      <td>苏州高新区：文旅产业同样“乘风破浪”</td>\n",
       "      <td></td>\n",
       "      <td>10.28870/n.cnki.nxhmr.2021.000920</td>\n",
       "      <td>111</td>\n",
       "    </tr>\n",
       "    <tr>\n",
       "      <th>2</th>\n",
       "      <td>21134965150</td>\n",
       "      <td>庆阳市第四届人民代表大会第六次会议主席团常务主席名单</td>\n",
       "      <td></td>\n",
       "      <td></td>\n",
       "      <td>111</td>\n",
       "    </tr>\n",
       "    <tr>\n",
       "      <th>3</th>\n",
       "      <td>21134968931</td>\n",
       "      <td>2020年全国海关减（退）税超过2600亿元</td>\n",
       "      <td></td>\n",
       "      <td>10.28264/n.cnki.ngjcd.2021.000155</td>\n",
       "      <td>111</td>\n",
       "    </tr>\n",
       "    <tr>\n",
       "      <th>4</th>\n",
       "      <td>21134969660</td>\n",
       "      <td>河北省调整相关区域疫情风险等级</td>\n",
       "      <td></td>\n",
       "      <td>10.28326/n.cnki.nhbrb.2021.000351</td>\n",
       "      <td>111</td>\n",
       "    </tr>\n",
       "  </tbody>\n",
       "</table>\n",
       "</div>"
      ],
      "text/plain": [
       "            id                       title language  \\\n",
       "0  21134952343               积极发挥优势 增强发展后劲            \n",
       "1  21134961091          苏州高新区：文旅产业同样“乘风破浪”            \n",
       "2  21134965150  庆阳市第四届人民代表大会第六次会议主席团常务主席名单            \n",
       "3  21134968931      2020年全国海关减（退）税超过2600亿元            \n",
       "4  21134969660             河北省调整相关区域疫情风险等级            \n",
       "\n",
       "                      identifier_doi source_file  \n",
       "0                                            111  \n",
       "1  10.28870/n.cnki.nxhmr.2021.000920         111  \n",
       "2                                            111  \n",
       "3  10.28264/n.cnki.ngjcd.2021.000155         111  \n",
       "4  10.28326/n.cnki.nhbrb.2021.000351         111  "
      ]
     },
     "execution_count": 24,
     "metadata": {},
     "output_type": "execute_result"
    }
   ],
   "source": [
    "pdata1 = pd.read_hdf('data/11_2021.h5')\n",
    "pdata1.head()"
   ]
  },
  {
   "cell_type": "code",
   "execution_count": 25,
   "id": "d8cf570c",
   "metadata": {},
   "outputs": [
    {
     "data": {
      "text/plain": [
       "771280"
      ]
     },
     "execution_count": 25,
     "metadata": {},
     "output_type": "execute_result"
    }
   ],
   "source": [
    "len(pdata1)"
   ]
  },
  {
   "cell_type": "code",
   "execution_count": 26,
   "id": "ded257b5",
   "metadata": {},
   "outputs": [
    {
     "data": {
      "text/plain": [
       "224317"
      ]
     },
     "execution_count": 26,
     "metadata": {},
     "output_type": "execute_result"
    }
   ],
   "source": [
    "(pdata1.identifier_doi == '').sum()"
   ]
  },
  {
   "cell_type": "code",
   "execution_count": 27,
   "id": "ede0b8a3",
   "metadata": {},
   "outputs": [
    {
     "data": {
      "text/plain": [
       "1"
      ]
     },
     "execution_count": 27,
     "metadata": {},
     "output_type": "execute_result"
    }
   ],
   "source": [
    "(pdata1.identifier_doi.value_counts() > 1).sum()"
   ]
  },
  {
   "cell_type": "code",
   "execution_count": null,
   "id": "8b5c779a",
   "metadata": {},
   "outputs": [],
   "source": [
    "(pdata.language == 'ZH').count()\n",
    "(pdata.language == 'ZH').sum()\n",
    "pdata.loc[pdata.language == 'ZH', 'language']"
   ]
  },
  {
   "cell_type": "code",
   "execution_count": null,
   "id": "f2b38ae7",
   "metadata": {},
   "outputs": [],
   "source": [
    "pdata1.identifier_doi.unique()"
   ]
  },
  {
   "cell_type": "code",
   "execution_count": null,
   "id": "cc9f7779",
   "metadata": {},
   "outputs": [],
   "source": [
    "pdata1[pdata1.identifier_doi == '10.1016/j.scitotenv.2020.141974']"
   ]
  },
  {
   "cell_type": "code",
   "execution_count": null,
   "id": "4169226d",
   "metadata": {},
   "outputs": [],
   "source": [
    "(pdata1[pdata1.language == 'EN'].identifier_doi.value_counts()>2).sum()"
   ]
  },
  {
   "cell_type": "code",
   "execution_count": null,
   "id": "e61a0d91",
   "metadata": {},
   "outputs": [],
   "source": []
  }
 ],
 "metadata": {
  "kernelspec": {
   "display_name": "Python 3",
   "language": "python",
   "name": "python3"
  },
  "language_info": {
   "codemirror_mode": {
    "name": "ipython",
    "version": 3
   },
   "file_extension": ".py",
   "mimetype": "text/x-python",
   "name": "python",
   "nbconvert_exporter": "python",
   "pygments_lexer": "ipython3",
   "version": "3.6.5"
  }
 },
 "nbformat": 4,
 "nbformat_minor": 5
}
